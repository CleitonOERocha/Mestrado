{
 "cells": [
  {
   "cell_type": "code",
   "execution_count": null,
   "metadata": {
    "id": "lUQwMKNVxqsW"
   },
   "outputs": [],
   "source": [
    "import warnings\n",
    "warnings.simplefilter(action = 'ignore')\n",
    "warnings.filterwarnings(action = 'ignore')\n",
    "import os\n",
    "import torch\n",
    "from transformers import AutoTokenizer, AutoModelForCausalLM\n",
    "import pandas as pd\n",
    "import numpy as np\n",
    "from sklearn.metrics import confusion_matrix, accuracy_score, precision_score, recall_score, f1_score\n",
    "from tqdm import tqdm\n",
    "import logging\n",
    "\n",
    "# Para evitar excesso de textos quando rodar o treinamento\n",
    "logging.getLogger(\"transformers\").setLevel(logging.ERROR)\n",
    "os.environ['TRANSFORMERS_VERBOSITY'] = 'error' "
   ]
  },
  {
   "cell_type": "code",
   "execution_count": null,
   "metadata": {
    "colab": {
     "base_uri": "https://localhost:8080/"
    },
    "id": "KieY8d8Lx7w3",
    "outputId": "f4bce9d5-93de-43ef-f982-f61176152a11"
   },
   "outputs": [
    {
     "name": "stdout",
     "output_type": "stream",
     "text": [
      "Drive already mounted at /content/drive; to attempt to forcibly remount, call drive.mount(\"/content/drive\", force_remount=True).\n"
     ]
    }
   ],
   "source": [
    "# Execute esse bloco apenas se estiver usando o Google Colab para execução --------------------------\n",
    "#from google.colab import drive\n",
    "#drive.mount('/content/drive')"
   ]
  },
  {
   "cell_type": "code",
   "execution_count": null,
   "metadata": {
    "id": "TLxx5zm_z9Ni"
   },
   "outputs": [],
   "source": [
    "# Acesse o Hugging Face e crie uma chave para poder usar alguns modelos, como o LLama e o Gemma -------------------\n",
    "from huggingface_hub import login\n",
    "login('**************************************')"
   ]
  },
  {
   "cell_type": "code",
   "execution_count": null,
   "metadata": {
    "colab": {
     "base_uri": "https://localhost:8080/",
     "height": 521
    },
    "id": "lnw5i8mVx8Nj",
    "outputId": "e97b0541-b1b4-4a7d-e546-9f6af386a929"
   },
   "outputs": [
    {
     "data": {
      "application/vnd.google.colaboratory.intrinsic+json": {
       "type": "dataframe",
       "variable_name": "df"
      },
      "text/html": [
       "\n",
       "  <div id=\"df-979a96d7-2aa6-4b04-b79f-453c6565f9af\" class=\"colab-df-container\">\n",
       "    <div>\n",
       "<style scoped>\n",
       "    .dataframe tbody tr th:only-of-type {\n",
       "        vertical-align: middle;\n",
       "    }\n",
       "\n",
       "    .dataframe tbody tr th {\n",
       "        vertical-align: top;\n",
       "    }\n",
       "\n",
       "    .dataframe thead th {\n",
       "        text-align: right;\n",
       "    }\n",
       "</style>\n",
       "<table border=\"1\" class=\"dataframe\">\n",
       "  <thead>\n",
       "    <tr style=\"text-align: right;\">\n",
       "      <th></th>\n",
       "      <th>natureza_operacao</th>\n",
       "      <th>data_emissao</th>\n",
       "      <th>cnpj_cpf_emitente</th>\n",
       "      <th>razao_social_emitente</th>\n",
       "      <th>uf_emitente</th>\n",
       "      <th>mun_emitente</th>\n",
       "      <th>nome_destinatario</th>\n",
       "      <th>descricao_produto</th>\n",
       "      <th>ncm_produto</th>\n",
       "      <th>quantidade</th>\n",
       "      <th>valor_unitario</th>\n",
       "      <th>valor_total</th>\n",
       "      <th>classe</th>\n",
       "      <th>text</th>\n",
       "    </tr>\n",
       "  </thead>\n",
       "  <tbody>\n",
       "    <tr>\n",
       "      <th>0</th>\n",
       "      <td>Outra saida merc./prest.serv. nao especif.</td>\n",
       "      <td>2023-01-01</td>\n",
       "      <td>07432517001847</td>\n",
       "      <td>SIMPRESS COMERCIO LOCACAO E SERVICOS LTDA</td>\n",
       "      <td>SC</td>\n",
       "      <td>ITAJAI</td>\n",
       "      <td>MINISTERIO DA JUSTICA E SEGURANCA PUBLICA</td>\n",
       "      <td>MLTD201LXAZ CARTUCHO DE TONER PRETO 20K PAGINAS</td>\n",
       "      <td>Cartuchos de revelador (toners)</td>\n",
       "      <td>1.0</td>\n",
       "      <td>169.58</td>\n",
       "      <td>169.58</td>\n",
       "      <td>0</td>\n",
       "      <td>[CLS] Natureza da operacao: Outra saida merc./...</td>\n",
       "    </tr>\n",
       "    <tr>\n",
       "      <th>1</th>\n",
       "      <td>Remessa de bem p/conta contrato de comodato ou...</td>\n",
       "      <td>2023-01-01</td>\n",
       "      <td>07432517001847</td>\n",
       "      <td>SIMPRESS COMERCIO LOCACAO E SERVICOS LTDA</td>\n",
       "      <td>SC</td>\n",
       "      <td>ITAJAI</td>\n",
       "      <td>UNIVERSIDADE FEDERAL RURAL DO RIO DE JANEIRO</td>\n",
       "      <td>HP GABINETE METALICO</td>\n",
       "      <td>Outras partes e acessórios para aparelhos de f...</td>\n",
       "      <td>1.0</td>\n",
       "      <td>560.88</td>\n",
       "      <td>560.88</td>\n",
       "      <td>0</td>\n",
       "      <td>[CLS] Natureza da operacao: Remessa de bem p/c...</td>\n",
       "    </tr>\n",
       "    <tr>\n",
       "      <th>2</th>\n",
       "      <td>VENDA DE MARCADORIA ADQUIRIDA DE TERCEIROS</td>\n",
       "      <td>2023-01-01</td>\n",
       "      <td>34849096000189</td>\n",
       "      <td>SEEK COMERCIO DE LIVROS, JORNAIS E REVISTAS LTDA</td>\n",
       "      <td>RJ</td>\n",
       "      <td>RIO DE JANEIRO</td>\n",
       "      <td>UNIVERSIDADE FEDERAL DO DELTA DO PARNAIBA  UFDPAR</td>\n",
       "      <td>METODOS QUANTITATIVOS APLICADOS A CONTABILIDADE</td>\n",
       "      <td>Outros livros, brochuras e impressos semelhantes</td>\n",
       "      <td>12.0</td>\n",
       "      <td>82.60</td>\n",
       "      <td>991.20</td>\n",
       "      <td>0</td>\n",
       "      <td>[CLS] Natureza da operacao: VENDA DE MARCADORI...</td>\n",
       "    </tr>\n",
       "    <tr>\n",
       "      <th>3</th>\n",
       "      <td>VENDA DE MARCADORIA ADQUIRIDA DE TERCEIROS</td>\n",
       "      <td>2023-01-01</td>\n",
       "      <td>34849096000189</td>\n",
       "      <td>SEEK COMERCIO DE LIVROS, JORNAIS E REVISTAS LTDA</td>\n",
       "      <td>RJ</td>\n",
       "      <td>RIO DE JANEIRO</td>\n",
       "      <td>UNIVERSIDADE FEDERAL DO DELTA DO PARNAIBA  UFDPAR</td>\n",
       "      <td>GESTAO ESTRATEGICA DE ARMAZENAMENTO</td>\n",
       "      <td>Outros livros, brochuras e impressos semelhantes</td>\n",
       "      <td>12.0</td>\n",
       "      <td>78.40</td>\n",
       "      <td>940.80</td>\n",
       "      <td>0</td>\n",
       "      <td>[CLS] Natureza da operacao: VENDA DE MARCADORI...</td>\n",
       "    </tr>\n",
       "    <tr>\n",
       "      <th>4</th>\n",
       "      <td>VENDA DE MARCADORIA ADQUIRIDA DE TERCEIROS</td>\n",
       "      <td>2023-01-01</td>\n",
       "      <td>34849096000189</td>\n",
       "      <td>SEEK COMERCIO DE LIVROS, JORNAIS E REVISTAS LTDA</td>\n",
       "      <td>RJ</td>\n",
       "      <td>RIO DE JANEIRO</td>\n",
       "      <td>UNIVERSIDADE FEDERAL DO DELTA DO PARNAIBA  UFDPAR</td>\n",
       "      <td>RELACOES INTERNACIONAIS DA ASIA E DA AFRICA</td>\n",
       "      <td>Outros livros, brochuras e impressos semelhantes</td>\n",
       "      <td>12.0</td>\n",
       "      <td>88.20</td>\n",
       "      <td>1058.40</td>\n",
       "      <td>0</td>\n",
       "      <td>[CLS] Natureza da operacao: VENDA DE MARCADORI...</td>\n",
       "    </tr>\n",
       "  </tbody>\n",
       "</table>\n",
       "</div>\n",
       "    <div class=\"colab-df-buttons\">\n",
       "\n",
       "  <div class=\"colab-df-container\">\n",
       "    <button class=\"colab-df-convert\" onclick=\"convertToInteractive('df-979a96d7-2aa6-4b04-b79f-453c6565f9af')\"\n",
       "            title=\"Convert this dataframe to an interactive table.\"\n",
       "            style=\"display:none;\">\n",
       "\n",
       "  <svg xmlns=\"http://www.w3.org/2000/svg\" height=\"24px\" viewBox=\"0 -960 960 960\">\n",
       "    <path d=\"M120-120v-720h720v720H120Zm60-500h600v-160H180v160Zm220 220h160v-160H400v160Zm0 220h160v-160H400v160ZM180-400h160v-160H180v160Zm440 0h160v-160H620v160ZM180-180h160v-160H180v160Zm440 0h160v-160H620v160Z\"/>\n",
       "  </svg>\n",
       "    </button>\n",
       "\n",
       "  <style>\n",
       "    .colab-df-container {\n",
       "      display:flex;\n",
       "      gap: 12px;\n",
       "    }\n",
       "\n",
       "    .colab-df-convert {\n",
       "      background-color: #E8F0FE;\n",
       "      border: none;\n",
       "      border-radius: 50%;\n",
       "      cursor: pointer;\n",
       "      display: none;\n",
       "      fill: #1967D2;\n",
       "      height: 32px;\n",
       "      padding: 0 0 0 0;\n",
       "      width: 32px;\n",
       "    }\n",
       "\n",
       "    .colab-df-convert:hover {\n",
       "      background-color: #E2EBFA;\n",
       "      box-shadow: 0px 1px 2px rgba(60, 64, 67, 0.3), 0px 1px 3px 1px rgba(60, 64, 67, 0.15);\n",
       "      fill: #174EA6;\n",
       "    }\n",
       "\n",
       "    .colab-df-buttons div {\n",
       "      margin-bottom: 4px;\n",
       "    }\n",
       "\n",
       "    [theme=dark] .colab-df-convert {\n",
       "      background-color: #3B4455;\n",
       "      fill: #D2E3FC;\n",
       "    }\n",
       "\n",
       "    [theme=dark] .colab-df-convert:hover {\n",
       "      background-color: #434B5C;\n",
       "      box-shadow: 0px 1px 3px 1px rgba(0, 0, 0, 0.15);\n",
       "      filter: drop-shadow(0px 1px 2px rgba(0, 0, 0, 0.3));\n",
       "      fill: #FFFFFF;\n",
       "    }\n",
       "  </style>\n",
       "\n",
       "    <script>\n",
       "      const buttonEl =\n",
       "        document.querySelector('#df-979a96d7-2aa6-4b04-b79f-453c6565f9af button.colab-df-convert');\n",
       "      buttonEl.style.display =\n",
       "        google.colab.kernel.accessAllowed ? 'block' : 'none';\n",
       "\n",
       "      async function convertToInteractive(key) {\n",
       "        const element = document.querySelector('#df-979a96d7-2aa6-4b04-b79f-453c6565f9af');\n",
       "        const dataTable =\n",
       "          await google.colab.kernel.invokeFunction('convertToInteractive',\n",
       "                                                    [key], {});\n",
       "        if (!dataTable) return;\n",
       "\n",
       "        const docLinkHtml = 'Like what you see? Visit the ' +\n",
       "          '<a target=\"_blank\" href=https://colab.research.google.com/notebooks/data_table.ipynb>data table notebook</a>'\n",
       "          + ' to learn more about interactive tables.';\n",
       "        element.innerHTML = '';\n",
       "        dataTable['output_type'] = 'display_data';\n",
       "        await google.colab.output.renderOutput(dataTable, element);\n",
       "        const docLink = document.createElement('div');\n",
       "        docLink.innerHTML = docLinkHtml;\n",
       "        element.appendChild(docLink);\n",
       "      }\n",
       "    </script>\n",
       "  </div>\n",
       "\n",
       "\n",
       "<div id=\"df-461d17e9-b732-46b6-86c5-8262bbf72bf7\">\n",
       "  <button class=\"colab-df-quickchart\" onclick=\"quickchart('df-461d17e9-b732-46b6-86c5-8262bbf72bf7')\"\n",
       "            title=\"Suggest charts\"\n",
       "            style=\"display:none;\">\n",
       "\n",
       "<svg xmlns=\"http://www.w3.org/2000/svg\" height=\"24px\"viewBox=\"0 0 24 24\"\n",
       "     width=\"24px\">\n",
       "    <g>\n",
       "        <path d=\"M19 3H5c-1.1 0-2 .9-2 2v14c0 1.1.9 2 2 2h14c1.1 0 2-.9 2-2V5c0-1.1-.9-2-2-2zM9 17H7v-7h2v7zm4 0h-2V7h2v10zm4 0h-2v-4h2v4z\"/>\n",
       "    </g>\n",
       "</svg>\n",
       "  </button>\n",
       "\n",
       "<style>\n",
       "  .colab-df-quickchart {\n",
       "      --bg-color: #E8F0FE;\n",
       "      --fill-color: #1967D2;\n",
       "      --hover-bg-color: #E2EBFA;\n",
       "      --hover-fill-color: #174EA6;\n",
       "      --disabled-fill-color: #AAA;\n",
       "      --disabled-bg-color: #DDD;\n",
       "  }\n",
       "\n",
       "  [theme=dark] .colab-df-quickchart {\n",
       "      --bg-color: #3B4455;\n",
       "      --fill-color: #D2E3FC;\n",
       "      --hover-bg-color: #434B5C;\n",
       "      --hover-fill-color: #FFFFFF;\n",
       "      --disabled-bg-color: #3B4455;\n",
       "      --disabled-fill-color: #666;\n",
       "  }\n",
       "\n",
       "  .colab-df-quickchart {\n",
       "    background-color: var(--bg-color);\n",
       "    border: none;\n",
       "    border-radius: 50%;\n",
       "    cursor: pointer;\n",
       "    display: none;\n",
       "    fill: var(--fill-color);\n",
       "    height: 32px;\n",
       "    padding: 0;\n",
       "    width: 32px;\n",
       "  }\n",
       "\n",
       "  .colab-df-quickchart:hover {\n",
       "    background-color: var(--hover-bg-color);\n",
       "    box-shadow: 0 1px 2px rgba(60, 64, 67, 0.3), 0 1px 3px 1px rgba(60, 64, 67, 0.15);\n",
       "    fill: var(--button-hover-fill-color);\n",
       "  }\n",
       "\n",
       "  .colab-df-quickchart-complete:disabled,\n",
       "  .colab-df-quickchart-complete:disabled:hover {\n",
       "    background-color: var(--disabled-bg-color);\n",
       "    fill: var(--disabled-fill-color);\n",
       "    box-shadow: none;\n",
       "  }\n",
       "\n",
       "  .colab-df-spinner {\n",
       "    border: 2px solid var(--fill-color);\n",
       "    border-color: transparent;\n",
       "    border-bottom-color: var(--fill-color);\n",
       "    animation:\n",
       "      spin 1s steps(1) infinite;\n",
       "  }\n",
       "\n",
       "  @keyframes spin {\n",
       "    0% {\n",
       "      border-color: transparent;\n",
       "      border-bottom-color: var(--fill-color);\n",
       "      border-left-color: var(--fill-color);\n",
       "    }\n",
       "    20% {\n",
       "      border-color: transparent;\n",
       "      border-left-color: var(--fill-color);\n",
       "      border-top-color: var(--fill-color);\n",
       "    }\n",
       "    30% {\n",
       "      border-color: transparent;\n",
       "      border-left-color: var(--fill-color);\n",
       "      border-top-color: var(--fill-color);\n",
       "      border-right-color: var(--fill-color);\n",
       "    }\n",
       "    40% {\n",
       "      border-color: transparent;\n",
       "      border-right-color: var(--fill-color);\n",
       "      border-top-color: var(--fill-color);\n",
       "    }\n",
       "    60% {\n",
       "      border-color: transparent;\n",
       "      border-right-color: var(--fill-color);\n",
       "    }\n",
       "    80% {\n",
       "      border-color: transparent;\n",
       "      border-right-color: var(--fill-color);\n",
       "      border-bottom-color: var(--fill-color);\n",
       "    }\n",
       "    90% {\n",
       "      border-color: transparent;\n",
       "      border-bottom-color: var(--fill-color);\n",
       "    }\n",
       "  }\n",
       "</style>\n",
       "\n",
       "  <script>\n",
       "    async function quickchart(key) {\n",
       "      const quickchartButtonEl =\n",
       "        document.querySelector('#' + key + ' button');\n",
       "      quickchartButtonEl.disabled = true;  // To prevent multiple clicks.\n",
       "      quickchartButtonEl.classList.add('colab-df-spinner');\n",
       "      try {\n",
       "        const charts = await google.colab.kernel.invokeFunction(\n",
       "            'suggestCharts', [key], {});\n",
       "      } catch (error) {\n",
       "        console.error('Error during call to suggestCharts:', error);\n",
       "      }\n",
       "      quickchartButtonEl.classList.remove('colab-df-spinner');\n",
       "      quickchartButtonEl.classList.add('colab-df-quickchart-complete');\n",
       "    }\n",
       "    (() => {\n",
       "      let quickchartButtonEl =\n",
       "        document.querySelector('#df-461d17e9-b732-46b6-86c5-8262bbf72bf7 button');\n",
       "      quickchartButtonEl.style.display =\n",
       "        google.colab.kernel.accessAllowed ? 'block' : 'none';\n",
       "    })();\n",
       "  </script>\n",
       "</div>\n",
       "\n",
       "    </div>\n",
       "  </div>\n"
      ],
      "text/plain": [
       "                                   natureza_operacao data_emissao  \\\n",
       "0         Outra saida merc./prest.serv. nao especif.   2023-01-01   \n",
       "1  Remessa de bem p/conta contrato de comodato ou...   2023-01-01   \n",
       "2         VENDA DE MARCADORIA ADQUIRIDA DE TERCEIROS   2023-01-01   \n",
       "3         VENDA DE MARCADORIA ADQUIRIDA DE TERCEIROS   2023-01-01   \n",
       "4         VENDA DE MARCADORIA ADQUIRIDA DE TERCEIROS   2023-01-01   \n",
       "\n",
       "  cnpj_cpf_emitente                             razao_social_emitente  \\\n",
       "0    07432517001847         SIMPRESS COMERCIO LOCACAO E SERVICOS LTDA   \n",
       "1    07432517001847         SIMPRESS COMERCIO LOCACAO E SERVICOS LTDA   \n",
       "2    34849096000189  SEEK COMERCIO DE LIVROS, JORNAIS E REVISTAS LTDA   \n",
       "3    34849096000189  SEEK COMERCIO DE LIVROS, JORNAIS E REVISTAS LTDA   \n",
       "4    34849096000189  SEEK COMERCIO DE LIVROS, JORNAIS E REVISTAS LTDA   \n",
       "\n",
       "  uf_emitente    mun_emitente  \\\n",
       "0          SC          ITAJAI   \n",
       "1          SC          ITAJAI   \n",
       "2          RJ  RIO DE JANEIRO   \n",
       "3          RJ  RIO DE JANEIRO   \n",
       "4          RJ  RIO DE JANEIRO   \n",
       "\n",
       "                                   nome_destinatario  \\\n",
       "0          MINISTERIO DA JUSTICA E SEGURANCA PUBLICA   \n",
       "1       UNIVERSIDADE FEDERAL RURAL DO RIO DE JANEIRO   \n",
       "2  UNIVERSIDADE FEDERAL DO DELTA DO PARNAIBA  UFDPAR   \n",
       "3  UNIVERSIDADE FEDERAL DO DELTA DO PARNAIBA  UFDPAR   \n",
       "4  UNIVERSIDADE FEDERAL DO DELTA DO PARNAIBA  UFDPAR   \n",
       "\n",
       "                                 descricao_produto  \\\n",
       "0  MLTD201LXAZ CARTUCHO DE TONER PRETO 20K PAGINAS   \n",
       "1                             HP GABINETE METALICO   \n",
       "2  METODOS QUANTITATIVOS APLICADOS A CONTABILIDADE   \n",
       "3              GESTAO ESTRATEGICA DE ARMAZENAMENTO   \n",
       "4      RELACOES INTERNACIONAIS DA ASIA E DA AFRICA   \n",
       "\n",
       "                                         ncm_produto  quantidade  \\\n",
       "0                    Cartuchos de revelador (toners)         1.0   \n",
       "1  Outras partes e acessórios para aparelhos de f...         1.0   \n",
       "2   Outros livros, brochuras e impressos semelhantes        12.0   \n",
       "3   Outros livros, brochuras e impressos semelhantes        12.0   \n",
       "4   Outros livros, brochuras e impressos semelhantes        12.0   \n",
       "\n",
       "   valor_unitario  valor_total  classe  \\\n",
       "0          169.58       169.58       0   \n",
       "1          560.88       560.88       0   \n",
       "2           82.60       991.20       0   \n",
       "3           78.40       940.80       0   \n",
       "4           88.20      1058.40       0   \n",
       "\n",
       "                                                text  \n",
       "0  [CLS] Natureza da operacao: Outra saida merc./...  \n",
       "1  [CLS] Natureza da operacao: Remessa de bem p/c...  \n",
       "2  [CLS] Natureza da operacao: VENDA DE MARCADORI...  \n",
       "3  [CLS] Natureza da operacao: VENDA DE MARCADORI...  \n",
       "4  [CLS] Natureza da operacao: VENDA DE MARCADORI...  "
      ]
     },
     "execution_count": 5,
     "metadata": {},
     "output_type": "execute_result"
    }
   ],
   "source": [
    "# Carregando o dataset ----------------------------------\n",
    "pasta = '/content/drive/My Drive/Mestrado/Public_Contracts/'\n",
    "\n",
    "df = pd.read_parquet(pasta + 'Notas_Fiscais_Itens_2023.parquet')\n",
    "df.head()"
   ]
  },
  {
   "cell_type": "code",
   "execution_count": null,
   "metadata": {
    "colab": {
     "base_uri": "https://localhost:8080/"
    },
    "id": "nx1Z-GxFx9yS",
    "outputId": "c6ba15b7-158d-4904-f82a-65e3666bb0cc"
   },
   "outputs": [
    {
     "data": {
      "text/plain": [
       "5980558"
      ]
     },
     "execution_count": 6,
     "metadata": {},
     "output_type": "execute_result"
    }
   ],
   "source": [
    "# Removendo linhas com NA's ---------------------------------\n",
    "df = df.dropna().reset_index(drop = True)\n",
    "df = df[['text', 'classe']].rename(columns = {'classe':'label'})\n",
    "len(df)"
   ]
  },
  {
   "cell_type": "code",
   "execution_count": null,
   "metadata": {
    "colab": {
     "base_uri": "https://localhost:8080/"
    },
    "id": "HdW9FXE4x_bv",
    "outputId": "579d8b55-19e3-40fa-9fb0-a8c9e231f6a7"
   },
   "outputs": [
    {
     "name": "stdout",
     "output_type": "stream",
     "text": [
      "Dados de treino:\n",
      "    label     size\n",
      "0      0  5731120\n",
      "1      1   249438\n"
     ]
    }
   ],
   "source": [
    "print('Dados de treino:\\n',df.groupby('label', as_index = False).size())"
   ]
  },
  {
   "cell_type": "code",
   "execution_count": null,
   "metadata": {
    "id": "GXjGHJ0PyApC"
   },
   "outputs": [],
   "source": [
    "# Criando dataset balanceado com N quantidades de cada classe selecionadas de forma random ----------------------\n",
    "samples_per_class_big = 10025\n",
    "\n",
    "# Verificar se há exemplos suficientes em cada classe\n",
    "count_label_0 = df[df['label'] == 0].shape[0]\n",
    "count_label_1 = df[df['label'] == 1].shape[0]\n",
    "\n",
    "if count_label_0 >= samples_per_class_big and count_label_1 >= samples_per_class_big:\n",
    "\n",
    "    df_label_0 = df[df['label'] == 0].sample(n=samples_per_class_big, random_state=42)\n",
    "\n",
    "    df_label_1 = df[df['label'] == 1].sample(n=samples_per_class_big, random_state=42)\n",
    "\n",
    "    df_amostra = pd.concat([df_label_0, df_label_1]).reset_index(drop=True)\n",
    "else:\n",
    "    \n",
    "    print(\"Não há exemplos suficientes em uma das classes para realizar a amostragem desejada.\")"
   ]
  },
  {
   "cell_type": "code",
   "execution_count": null,
   "metadata": {
    "colab": {
     "base_uri": "https://localhost:8080/"
    },
    "id": "yQvI7EUXyCZK",
    "outputId": "b2dd702b-ece9-4692-c186-d083739c8764"
   },
   "outputs": [
    {
     "name": "stdout",
     "output_type": "stream",
     "text": [
      "Dados de treino:\n",
      "    label   size\n",
      "0      0  10025\n",
      "1      1  10025\n"
     ]
    }
   ],
   "source": [
    "print('Dados de treino:\\n',df_amostra.groupby('label', as_index = False).size())"
   ]
  },
  {
   "cell_type": "code",
   "execution_count": null,
   "metadata": {
    "id": "yyRmzrbgyDnO"
   },
   "outputs": [],
   "source": [
    "# Criando dataset balanceado com N exemplos few-shot de cada classe selecionadas de forma random ----------------------\n",
    "samples_per_class = 25 \n",
    "df_0 = df_amostra[df_amostra['label'] == 0].sample(n=samples_per_class, random_state=42)\n",
    "df_1 = df_amostra[df_amostra['label'] == 1].sample(n=samples_per_class, random_state=42)\n",
    "df_few = pd.concat([df_0, df_1]).sample(frac=1, random_state=42)\n"
   ]
  },
  {
   "cell_type": "code",
   "execution_count": null,
   "metadata": {
    "colab": {
     "base_uri": "https://localhost:8080/"
    },
    "id": "K9tem18tyGBN",
    "outputId": "759044af-9fc9-4533-a142-79ed6bd8eb0d"
   },
   "outputs": [
    {
     "name": "stdout",
     "output_type": "stream",
     "text": [
      "Few-shot (prompt) size: 50\n",
      "Test set size: 20000\n"
     ]
    }
   ],
   "source": [
    "# Remove do df original as linhas selecionadas para few-shot\n",
    "ids_few = df_few.index\n",
    "df_test = df_amostra.drop(ids_few)\n",
    "\n",
    "print(\"Few-shot (prompt) size:\", len(df_few))\n",
    "print(\"Test set size:\", len(df_test))\n"
   ]
  },
  {
   "cell_type": "code",
   "execution_count": null,
   "metadata": {
    "id": "pMdyHUfLyGDf"
   },
   "outputs": [],
   "source": [
    "# Gerar um prompt com os exemplos de few-shot ---------------------------\n",
    "def build_prompt(few_examples, new_text):\n",
    "\n",
    "    prompt = \"Você é um modelo de IA que classifica o texto em 0 ou 1.\\n\"\n",
    "    \n",
    "    prompt += \"Abaixo estão alguns exemplos:\\n\\n\"\n",
    "\n",
    "    for i, row in few_examples.iterrows():\n",
    "\n",
    "        prompt += f\"Exemplo:\\nTexto: \\\"{row['text']}\\\"\\nClassificação: {row['label']}\\n\\n\"\n",
    "\n",
    "    prompt += \"Agora, classifique o texto abaixo:\\n\"\n",
    "\n",
    "    prompt += f\"Texto: \\\"{new_text}\\\"\\n\\n\"\n",
    "\n",
    "    prompt += \"Responda somente com 0 ou 1.\\nClassificação:\"\n",
    "\n",
    "    return prompt\n",
    "\n",
    "# Faz a classificação dos textos ---------------------------------------------\n",
    "def classify_text_llm(model, tokenizer, few_examples, text,\n",
    "                      max_new_tokens=10, temperature=0.0):\n",
    "\n",
    "    prompt = build_prompt(few_examples, text)\n",
    "\n",
    "    inputs = tokenizer.encode(prompt, return_tensors=\"pt\").to(model.device)\n",
    "\n",
    "    tokenizer.pad_token_id = tokenizer.eos_token_id\n",
    "\n",
    "    with torch.no_grad():\n",
    "\n",
    "        outputs = model.generate(\n",
    "            inputs,\n",
    "            max_new_tokens=max_new_tokens,\n",
    "            temperature=temperature,\n",
    "            do_sample=False\n",
    "        )\n",
    "\n",
    "    generated = tokenizer.decode(outputs[0], skip_special_tokens=True)\n",
    "\n",
    "    # Tentar extrair a resposta final (0 ou 1) do texto gerado\n",
    "    answer_part = generated.split(\"Classificação:\")[-1].strip()\n",
    "\n",
    "    # Pegar somente o primeiro caractere que seja '0' ou '1'\n",
    "    if len(answer_part) > 0:\n",
    "\n",
    "        # Filtrar apenas o primeiro caractere que seja '0' ou '1'\n",
    "        if answer_part[0] == '0':\n",
    "\n",
    "            return 0\n",
    "        \n",
    "        elif answer_part[0] == '1':\n",
    "            \n",
    "            return 1\n",
    "        \n",
    "        # Se não achou nada, retorna None\n",
    "        else:\n",
    "\n",
    "            return None  "
   ]
  },
  {
   "cell_type": "code",
   "execution_count": null,
   "metadata": {},
   "outputs": [],
   "source": [
    "warnings.filterwarnings(\n",
    "    \"ignore\",\n",
    "    message=\"The attention mask and the pad token id were not set.\"\n",
    ")"
   ]
  },
  {
   "cell_type": "code",
   "execution_count": null,
   "metadata": {
    "colab": {
     "base_uri": "https://localhost:8080/",
     "height": 49,
     "referenced_widgets": [
      "846af8ce8a6d4a60a212231a969c9db4",
      "e538694bc4014df09aad37262636e325",
      "284e05069bc542c19df24592c6651c33",
      "60aa6b04148b46ba9e28bb25dba933dc",
      "d5a5e95ce0a84b0db4bc40a6333c36e3",
      "6e82ccaa13d043e2953b9dc1652203f9",
      "5815bb17cb884842886e992e27053a8f",
      "ddb0213239b74244b4e07f059cfe50b4",
      "8acef0f172a34901a0082cd2baa59590",
      "04605d402f674749b461610e1bf0e4e6",
      "aa9c28394d804c52a8ff55ff395f2373"
     ]
    },
    "id": "-26seIezx1iK",
    "outputId": "6b7ff1f5-9058-4596-e712-6b403a472df6"
   },
   "outputs": [
    {
     "data": {
      "application/vnd.jupyter.widget-view+json": {
       "model_id": "846af8ce8a6d4a60a212231a969c9db4",
       "version_major": 2,
       "version_minor": 0
      },
      "text/plain": [
       "Loading checkpoint shards:   0%|          | 0/4 [00:00<?, ?it/s]"
      ]
     },
     "metadata": {},
     "output_type": "display_data"
    }
   ],
   "source": [
    "#model_id = \"mistralai/Mistral-7B-v0.1\"\n",
    "#model_id = \"deepseek-ai/DeepSeek-R1-Distill-Qwen-7B\"\n",
    "#model_id = \"deepseek-ai/DeepSeek-R1\"\n",
    "#model_id = \"google/gemma-3-12b-pt\"\n",
    "#model_id = \"meta-llama/Llama-3.2-3B\"\n",
    "model_id = \"meta-llama/Llama-3.1-8B\"\n",
    "\n",
    "tokenizer = AutoTokenizer.from_pretrained(model_id)\n",
    "model = AutoModelForCausalLM.from_pretrained(\n",
    "    model_id,\n",
    "    device_map=\"auto\", \n",
    "    torch_dtype=torch.float16\n",
    ")\n"
   ]
  },
  {
   "cell_type": "code",
   "execution_count": null,
   "metadata": {
    "id": "WNmVyW5Mdn9-"
   },
   "outputs": [],
   "source": [
    "model.generation_config.pad_token_id = tokenizer.pad_token_id\n",
    "tokenizer.pad_token_id = tokenizer.eos_token_id"
   ]
  },
  {
   "cell_type": "code",
   "execution_count": null,
   "metadata": {
    "colab": {
     "base_uri": "https://localhost:8080/"
    },
    "collapsed": true,
    "id": "CHavnNhfyGF_",
    "outputId": "3d302063-94d4-4096-c63f-b8d318bc6261"
   },
   "outputs": [
    {
     "name": "stderr",
     "output_type": "stream",
     "text": [
      "20000it [5:23:08,  1.03it/s]\n"
     ]
    }
   ],
   "source": [
    "y_true = []\n",
    "y_pred = []\n",
    "\n",
    "for i, row in tqdm(df_test.iterrows()):\n",
    "    \n",
    "    label_verdadeiro = row['label']\n",
    "    texto = row['text']\n",
    "\n",
    "    # Classificar\n",
    "    label_predito = classify_text_llm(\n",
    "        model=model,\n",
    "        tokenizer=tokenizer,\n",
    "        few_examples=df_few,\n",
    "        text=texto\n",
    "    )\n",
    "\n",
    "    y_true.append(label_verdadeiro)\n",
    "    y_pred.append(label_predito)\n",
    "\n",
    "y_true = np.array(y_true)\n",
    "y_pred = np.array(y_pred)\n"
   ]
  },
  {
   "cell_type": "code",
   "execution_count": null,
   "metadata": {
    "colab": {
     "base_uri": "https://localhost:8080/"
    },
    "id": "S7UYePA3yGIH",
    "outputId": "b59f3401-8391-4b23-842f-74897cc3510f"
   },
   "outputs": [
    {
     "name": "stdout",
     "output_type": "stream",
     "text": [
      "Matriz de Confusão (tn, fp, fn, tp):\n",
      "[[8958 1017]\n",
      " [7799 2226]]\n"
     ]
    }
   ],
   "source": [
    "# Criar a matriz de confusão -----------------------------------\n",
    "cm = confusion_matrix(y_true, y_pred)\n",
    "tn, fp, fn, tp = cm.ravel()\n",
    "\n",
    "print(\"Matriz de Confusão (tn, fp, fn, tp):\")\n",
    "print(cm)\n",
    "\n",
    "# [[TN, FP],\n",
    "# [FN, TP]]"
   ]
  },
  {
   "cell_type": "code",
   "execution_count": null,
   "metadata": {
    "colab": {
     "base_uri": "https://localhost:8080/"
    },
    "id": "u1K7SOMhyGKv",
    "outputId": "6982d9b7-7bf9-4e31-dd09-3c7848f947b4"
   },
   "outputs": [
    {
     "name": "stdout",
     "output_type": "stream",
     "text": [
      "Custo Total: 40012\n"
     ]
    }
   ],
   "source": [
    "# Criar a matriz de custo -----------------------------------\n",
    "cost_FP = 1\n",
    "cost_FN = 5\n",
    "cost_TP = 0\n",
    "cost_TN = 0\n",
    "\n",
    "total_cost = (fp * cost_FP) + (fn * cost_FN) + (tp * cost_TP) + (tn * cost_TN)\n",
    "print(f\"Custo Total: {total_cost}\")"
   ]
  },
  {
   "cell_type": "code",
   "execution_count": null,
   "metadata": {
    "colab": {
     "base_uri": "https://localhost:8080/"
    },
    "id": "RRvldUmW2JAO",
    "outputId": "b929c53f-48b8-48e3-ac06-5b1d491fd6cd"
   },
   "outputs": [
    {
     "name": "stdout",
     "output_type": "stream",
     "text": [
      "Custo Total: 12884\n"
     ]
    }
   ],
   "source": [
    "# Criar a matriz de custo -----------------------------------\n",
    "cost_FP = 5\n",
    "cost_FN = 1\n",
    "cost_TP = 0\n",
    "cost_TN = 0\n",
    "\n",
    "total_cost = (fp * cost_FP) + (fn * cost_FN) + (tp * cost_TP) + (tn * cost_TN)\n",
    "print(f\"Custo Total: {total_cost}\")"
   ]
  },
  {
   "cell_type": "code",
   "execution_count": null,
   "metadata": {
    "colab": {
     "base_uri": "https://localhost:8080/"
    },
    "id": "hTVLy18hx1kf",
    "outputId": "f66bfc96-f3ac-4767-fb13-0a0c573c78a0"
   },
   "outputs": [
    {
     "name": "stdout",
     "output_type": "stream",
     "text": [
      "Acurácia:  0.5592\n",
      "Precisão:  0.6864\n",
      "Recall:    0.2220\n",
      "F1 Score:  0.3355\n"
     ]
    }
   ],
   "source": [
    "# Avaliar o modelo ------------------------------------------\n",
    "accuracy = accuracy_score(y_true, y_pred)\n",
    "precision = precision_score(y_true, y_pred, zero_division=0)\n",
    "recall = recall_score(y_true, y_pred, zero_division=0)\n",
    "f1 = f1_score(y_true, y_pred, zero_division=0)\n",
    "\n",
    "print(f\"Acurácia:  {accuracy:.4f}\")\n",
    "print(f\"Precisão:  {precision:.4f}\")\n",
    "print(f\"Recall:    {recall:.4f}\")\n",
    "print(f\"F1 Score:  {f1:.4f}\")\n"
   ]
  }
 ],
 "metadata": {
  "accelerator": "GPU",
  "colab": {
   "gpuType": "A100",
   "machine_shape": "hm",
   "provenance": []
  },
  "kernelspec": {
   "display_name": "Python 3",
   "name": "python3"
  },
  "language_info": {
   "name": "python"
  },
  "widgets": {
   "application/vnd.jupyter.widget-state+json": {
    "04605d402f674749b461610e1bf0e4e6": {
     "model_module": "@jupyter-widgets/base",
     "model_module_version": "1.2.0",
     "model_name": "LayoutModel",
     "state": {
      "_model_module": "@jupyter-widgets/base",
      "_model_module_version": "1.2.0",
      "_model_name": "LayoutModel",
      "_view_count": null,
      "_view_module": "@jupyter-widgets/base",
      "_view_module_version": "1.2.0",
      "_view_name": "LayoutView",
      "align_content": null,
      "align_items": null,
      "align_self": null,
      "border": null,
      "bottom": null,
      "display": null,
      "flex": null,
      "flex_flow": null,
      "grid_area": null,
      "grid_auto_columns": null,
      "grid_auto_flow": null,
      "grid_auto_rows": null,
      "grid_column": null,
      "grid_gap": null,
      "grid_row": null,
      "grid_template_areas": null,
      "grid_template_columns": null,
      "grid_template_rows": null,
      "height": null,
      "justify_content": null,
      "justify_items": null,
      "left": null,
      "margin": null,
      "max_height": null,
      "max_width": null,
      "min_height": null,
      "min_width": null,
      "object_fit": null,
      "object_position": null,
      "order": null,
      "overflow": null,
      "overflow_x": null,
      "overflow_y": null,
      "padding": null,
      "right": null,
      "top": null,
      "visibility": null,
      "width": null
     }
    },
    "284e05069bc542c19df24592c6651c33": {
     "model_module": "@jupyter-widgets/controls",
     "model_module_version": "1.5.0",
     "model_name": "FloatProgressModel",
     "state": {
      "_dom_classes": [],
      "_model_module": "@jupyter-widgets/controls",
      "_model_module_version": "1.5.0",
      "_model_name": "FloatProgressModel",
      "_view_count": null,
      "_view_module": "@jupyter-widgets/controls",
      "_view_module_version": "1.5.0",
      "_view_name": "ProgressView",
      "bar_style": "success",
      "description": "",
      "description_tooltip": null,
      "layout": "IPY_MODEL_ddb0213239b74244b4e07f059cfe50b4",
      "max": 4,
      "min": 0,
      "orientation": "horizontal",
      "style": "IPY_MODEL_8acef0f172a34901a0082cd2baa59590",
      "value": 4
     }
    },
    "5815bb17cb884842886e992e27053a8f": {
     "model_module": "@jupyter-widgets/controls",
     "model_module_version": "1.5.0",
     "model_name": "DescriptionStyleModel",
     "state": {
      "_model_module": "@jupyter-widgets/controls",
      "_model_module_version": "1.5.0",
      "_model_name": "DescriptionStyleModel",
      "_view_count": null,
      "_view_module": "@jupyter-widgets/base",
      "_view_module_version": "1.2.0",
      "_view_name": "StyleView",
      "description_width": ""
     }
    },
    "60aa6b04148b46ba9e28bb25dba933dc": {
     "model_module": "@jupyter-widgets/controls",
     "model_module_version": "1.5.0",
     "model_name": "HTMLModel",
     "state": {
      "_dom_classes": [],
      "_model_module": "@jupyter-widgets/controls",
      "_model_module_version": "1.5.0",
      "_model_name": "HTMLModel",
      "_view_count": null,
      "_view_module": "@jupyter-widgets/controls",
      "_view_module_version": "1.5.0",
      "_view_name": "HTMLView",
      "description": "",
      "description_tooltip": null,
      "layout": "IPY_MODEL_04605d402f674749b461610e1bf0e4e6",
      "placeholder": "​",
      "style": "IPY_MODEL_aa9c28394d804c52a8ff55ff395f2373",
      "value": " 4/4 [00:05&lt;00:00,  1.08s/it]"
     }
    },
    "6e82ccaa13d043e2953b9dc1652203f9": {
     "model_module": "@jupyter-widgets/base",
     "model_module_version": "1.2.0",
     "model_name": "LayoutModel",
     "state": {
      "_model_module": "@jupyter-widgets/base",
      "_model_module_version": "1.2.0",
      "_model_name": "LayoutModel",
      "_view_count": null,
      "_view_module": "@jupyter-widgets/base",
      "_view_module_version": "1.2.0",
      "_view_name": "LayoutView",
      "align_content": null,
      "align_items": null,
      "align_self": null,
      "border": null,
      "bottom": null,
      "display": null,
      "flex": null,
      "flex_flow": null,
      "grid_area": null,
      "grid_auto_columns": null,
      "grid_auto_flow": null,
      "grid_auto_rows": null,
      "grid_column": null,
      "grid_gap": null,
      "grid_row": null,
      "grid_template_areas": null,
      "grid_template_columns": null,
      "grid_template_rows": null,
      "height": null,
      "justify_content": null,
      "justify_items": null,
      "left": null,
      "margin": null,
      "max_height": null,
      "max_width": null,
      "min_height": null,
      "min_width": null,
      "object_fit": null,
      "object_position": null,
      "order": null,
      "overflow": null,
      "overflow_x": null,
      "overflow_y": null,
      "padding": null,
      "right": null,
      "top": null,
      "visibility": null,
      "width": null
     }
    },
    "846af8ce8a6d4a60a212231a969c9db4": {
     "model_module": "@jupyter-widgets/controls",
     "model_module_version": "1.5.0",
     "model_name": "HBoxModel",
     "state": {
      "_dom_classes": [],
      "_model_module": "@jupyter-widgets/controls",
      "_model_module_version": "1.5.0",
      "_model_name": "HBoxModel",
      "_view_count": null,
      "_view_module": "@jupyter-widgets/controls",
      "_view_module_version": "1.5.0",
      "_view_name": "HBoxView",
      "box_style": "",
      "children": [
       "IPY_MODEL_e538694bc4014df09aad37262636e325",
       "IPY_MODEL_284e05069bc542c19df24592c6651c33",
       "IPY_MODEL_60aa6b04148b46ba9e28bb25dba933dc"
      ],
      "layout": "IPY_MODEL_d5a5e95ce0a84b0db4bc40a6333c36e3"
     }
    },
    "8acef0f172a34901a0082cd2baa59590": {
     "model_module": "@jupyter-widgets/controls",
     "model_module_version": "1.5.0",
     "model_name": "ProgressStyleModel",
     "state": {
      "_model_module": "@jupyter-widgets/controls",
      "_model_module_version": "1.5.0",
      "_model_name": "ProgressStyleModel",
      "_view_count": null,
      "_view_module": "@jupyter-widgets/base",
      "_view_module_version": "1.2.0",
      "_view_name": "StyleView",
      "bar_color": null,
      "description_width": ""
     }
    },
    "aa9c28394d804c52a8ff55ff395f2373": {
     "model_module": "@jupyter-widgets/controls",
     "model_module_version": "1.5.0",
     "model_name": "DescriptionStyleModel",
     "state": {
      "_model_module": "@jupyter-widgets/controls",
      "_model_module_version": "1.5.0",
      "_model_name": "DescriptionStyleModel",
      "_view_count": null,
      "_view_module": "@jupyter-widgets/base",
      "_view_module_version": "1.2.0",
      "_view_name": "StyleView",
      "description_width": ""
     }
    },
    "d5a5e95ce0a84b0db4bc40a6333c36e3": {
     "model_module": "@jupyter-widgets/base",
     "model_module_version": "1.2.0",
     "model_name": "LayoutModel",
     "state": {
      "_model_module": "@jupyter-widgets/base",
      "_model_module_version": "1.2.0",
      "_model_name": "LayoutModel",
      "_view_count": null,
      "_view_module": "@jupyter-widgets/base",
      "_view_module_version": "1.2.0",
      "_view_name": "LayoutView",
      "align_content": null,
      "align_items": null,
      "align_self": null,
      "border": null,
      "bottom": null,
      "display": null,
      "flex": null,
      "flex_flow": null,
      "grid_area": null,
      "grid_auto_columns": null,
      "grid_auto_flow": null,
      "grid_auto_rows": null,
      "grid_column": null,
      "grid_gap": null,
      "grid_row": null,
      "grid_template_areas": null,
      "grid_template_columns": null,
      "grid_template_rows": null,
      "height": null,
      "justify_content": null,
      "justify_items": null,
      "left": null,
      "margin": null,
      "max_height": null,
      "max_width": null,
      "min_height": null,
      "min_width": null,
      "object_fit": null,
      "object_position": null,
      "order": null,
      "overflow": null,
      "overflow_x": null,
      "overflow_y": null,
      "padding": null,
      "right": null,
      "top": null,
      "visibility": null,
      "width": null
     }
    },
    "ddb0213239b74244b4e07f059cfe50b4": {
     "model_module": "@jupyter-widgets/base",
     "model_module_version": "1.2.0",
     "model_name": "LayoutModel",
     "state": {
      "_model_module": "@jupyter-widgets/base",
      "_model_module_version": "1.2.0",
      "_model_name": "LayoutModel",
      "_view_count": null,
      "_view_module": "@jupyter-widgets/base",
      "_view_module_version": "1.2.0",
      "_view_name": "LayoutView",
      "align_content": null,
      "align_items": null,
      "align_self": null,
      "border": null,
      "bottom": null,
      "display": null,
      "flex": null,
      "flex_flow": null,
      "grid_area": null,
      "grid_auto_columns": null,
      "grid_auto_flow": null,
      "grid_auto_rows": null,
      "grid_column": null,
      "grid_gap": null,
      "grid_row": null,
      "grid_template_areas": null,
      "grid_template_columns": null,
      "grid_template_rows": null,
      "height": null,
      "justify_content": null,
      "justify_items": null,
      "left": null,
      "margin": null,
      "max_height": null,
      "max_width": null,
      "min_height": null,
      "min_width": null,
      "object_fit": null,
      "object_position": null,
      "order": null,
      "overflow": null,
      "overflow_x": null,
      "overflow_y": null,
      "padding": null,
      "right": null,
      "top": null,
      "visibility": null,
      "width": null
     }
    },
    "e538694bc4014df09aad37262636e325": {
     "model_module": "@jupyter-widgets/controls",
     "model_module_version": "1.5.0",
     "model_name": "HTMLModel",
     "state": {
      "_dom_classes": [],
      "_model_module": "@jupyter-widgets/controls",
      "_model_module_version": "1.5.0",
      "_model_name": "HTMLModel",
      "_view_count": null,
      "_view_module": "@jupyter-widgets/controls",
      "_view_module_version": "1.5.0",
      "_view_name": "HTMLView",
      "description": "",
      "description_tooltip": null,
      "layout": "IPY_MODEL_6e82ccaa13d043e2953b9dc1652203f9",
      "placeholder": "​",
      "style": "IPY_MODEL_5815bb17cb884842886e992e27053a8f",
      "value": "Loading checkpoint shards: 100%"
     }
    }
   }
  }
 },
 "nbformat": 4,
 "nbformat_minor": 0
}
